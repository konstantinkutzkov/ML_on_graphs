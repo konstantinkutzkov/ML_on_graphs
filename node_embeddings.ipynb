{
 "cells": [
  {
   "cell_type": "code",
   "execution_count": 1,
   "id": "4a6dc431",
   "metadata": {},
   "outputs": [],
   "source": [
    "import numpy as np\n",
    "import pandas as pd\n",
    "import networkx as nx\n",
    "from scipy.sparse import csr_matrix\n",
    "import matplotlib.pyplot as plt\n",
    "import random\n",
    "import time\n",
    "\n",
    "from sklearn.linear_model import LogisticRegression\n",
    "from sklearn.ensemble import RandomForestClassifier\n",
    "from sklearn.model_selection import train_test_split\n",
    "from sklearn.metrics import accuracy_score as acc\n",
    "\n",
    "import tensorflow as tf\n",
    "from tensorflow.keras import Model\n",
    "from tensorflow.keras.layers import Input, Dot, Embedding, Flatten, Dense\n",
    "from sklearn.cluster import KMeans\n",
    "\n",
    "import matplotlib.pyplot as plt"
   ]
  },
  {
   "cell_type": "code",
   "execution_count": 2,
   "id": "56b83941",
   "metadata": {},
   "outputs": [],
   "source": [
    "# download and unzip the Cora graph from https://linqs-data.soe.ucsc.edu/public/lbc/cora.tgz\n",
    "# It contains the graph in cora.cites and the node labels in cora.content\n",
    "path = \"/home/koki/Desktop/Data/Graphs/cora/cora.cites\" # update the path \n",
    "f = open(path, \"r\")\n",
    "G = nx.Graph()\n",
    "for line in f:\n",
    "    if line[0] == \"#\":\n",
    "        continue\n",
    "    line = line.strip()\n",
    "    line_split = line.split(\"\\t\")\n",
    "    try:\n",
    "        u = int(line_split[0])\n",
    "        v = int(line_split[1])\n",
    "        G.add_edge(u, v)\n",
    "    except:\n",
    "        raise ValueError(\"Line cannot be processed: \", line)"
   ]
  },
  {
   "cell_type": "code",
   "execution_count": 3,
   "id": "013e8045",
   "metadata": {},
   "outputs": [
    {
     "data": {
      "text/plain": [
       "(2708, 5278)"
      ]
     },
     "execution_count": 3,
     "metadata": {},
     "output_type": "execute_result"
    }
   ],
   "source": [
    "G.number_of_nodes(), G.number_of_edges()"
   ]
  },
  {
   "cell_type": "code",
   "execution_count": 4,
   "id": "3b130e26",
   "metadata": {},
   "outputs": [],
   "source": [
    "def random_walk(G, u, k):\n",
    "    curr_node = u\n",
    "    walk = []\n",
    "    for i in range(k):\n",
    "        idx = random.randint(0,len(list(G[curr_node]))-1)\n",
    "        curr_node = list(G[curr_node])[idx]\n",
    "        walk.append(curr_node)\n",
    "    return walk"
   ]
  },
  {
   "cell_type": "code",
   "execution_count": 5,
   "id": "e6f0b895",
   "metadata": {},
   "outputs": [
    {
     "data": {
      "text/plain": [
       "[1034, 1035, 1034, 1033, 45605]"
      ]
     },
     "execution_count": 5,
     "metadata": {},
     "output_type": "execute_result"
    }
   ],
   "source": [
    "random_walk(G, 1033, 5)"
   ]
  },
  {
   "cell_type": "code",
   "execution_count": 8,
   "id": "42fd25f5",
   "metadata": {},
   "outputs": [],
   "source": [
    "# we need to work with consecutive integers for our embedding algorithm\n",
    "# below we create two hash tables that map \n",
    "node_to_int = {}\n",
    "int_to_node = {}\n",
    "for i, u in enumerate(list(G.nodes())):\n",
    "    node_to_int[u] = i\n",
    "    int_to_node[i] = u"
   ]
  },
  {
   "cell_type": "code",
   "execution_count": 9,
   "id": "d8b22bdd",
   "metadata": {},
   "outputs": [],
   "source": [
    "class RandomWalkGen(tf.keras.utils.Sequence):\n",
    "    \"\"\"\n",
    "        A generator class that will feed positive and negative examples.\n",
    "    \"\"\"    \n",
    "    \n",
    "    def __init__(self, \n",
    "                 G, \n",
    "                 walk_length, \n",
    "                 node_to_int,\n",
    "                 nr_neg_samples, \n",
    "                 nr_nn, batch_size):\n",
    "        \n",
    "        \"\"\"\n",
    "        Initialization\n",
    "        :param G: the (undirected) input graph\n",
    "        :param walk_length: the length of the random walk\n",
    "        :param node_to_int: a mapping of node ids to integers\n",
    "        :param nr_neg_samples: the number of negative samples for positive pair\n",
    "        :param nr_nn: how many nearest neighbors per candidate to generate\n",
    "        :param batch_size: how many samples to generate\n",
    "        \"\"\"\n",
    "        self.G = G\n",
    "        self.walk_length = walk_length\n",
    "        self.node_to_int = node_to_int\n",
    "        assert nr_neg_samples >= 1\n",
    "        self.nr_neg_samples = nr_neg_samples # by how mach to multiply the number pf positive samples\n",
    "        self.nr_nn = nr_nn\n",
    "        self.batch_size = batch_size\n",
    "        \n",
    "         \n",
    "    # how many samples to generate per epoch        \n",
    "    def __len__(self):\n",
    "        return 10000\n",
    "    \n",
    "    def __getitem__(self, idx):\n",
    "        i = 0\n",
    "        samples = []\n",
    "        labels = []\n",
    "        while i < self.batch_size:\n",
    "            i += 1\n",
    "            start = np.random.randint(self.G.number_of_nodes())\n",
    "            u = list(self.G.nodes())[start]\n",
    "            walk = self.random_walk(u)\n",
    "            \n",
    "            neg_idx = np.random.choice(self.G.number_of_nodes(), self.nr_neg_samples*self.walk_length)\n",
    "            neg = [list(G.nodes())[idx] for idx in neg_idx]\n",
    "            \n",
    "            # generate positive samples from the random walk\n",
    "            samples.extend([(self.node_to_int[u],self.node_to_int[p]) for p in walk])\n",
    "            labels.extend(self.walk_length*[1])\n",
    "            \n",
    "            # generate negative samples, a multiple of the walk length\n",
    "            samples.extend([(self.node_to_int[u], self.node_to_int[n]) for n in neg])\n",
    "            labels.extend(self.nr_neg_samples*self.walk_length*[0])\n",
    "        return np.array(samples), np.array(labels)\n",
    "    \n",
    "    def random_walk(self, u):\n",
    "        curr_node = u\n",
    "        walk = []\n",
    "        for i in range(self.walk_length):\n",
    "            idx = random.randint(0,len(list(self.G[curr_node]))-1)\n",
    "            curr_node = list(self.G[curr_node])[idx]\n",
    "            walk.append(curr_node)\n",
    "        return walk\n"
   ]
  },
  {
   "cell_type": "code",
   "execution_count": 10,
   "id": "5d8ec78e",
   "metadata": {},
   "outputs": [],
   "source": [
    "gen = RandomWalkGen(G, walk_length=5, node_to_int=node_to_int, \n",
    "                     nr_neg_samples=2, nr_nn=50, batch_size=1)"
   ]
  },
  {
   "cell_type": "code",
   "execution_count": 11,
   "id": "40b922f0",
   "metadata": {},
   "outputs": [
    {
     "data": {
      "text/plain": [
       "15"
      ]
     },
     "execution_count": 11,
     "metadata": {},
     "output_type": "execute_result"
    }
   ],
   "source": [
    "len(gen[10][0])"
   ]
  },
  {
   "cell_type": "code",
   "execution_count": 12,
   "id": "459b5d7a",
   "metadata": {},
   "outputs": [],
   "source": [
    "class Node2Vec(Model):\n",
    "    \"\"\"\n",
    "    The discriminative model that trains node embeddings. \n",
    "    Essentially, this is word2vec with negative sampling.\n",
    "    \"\"\"\n",
    "    def __init__(self, nr_nodes, embedding_dim, *args, **kwargs):\n",
    "        super(Node2Vec, self).__init__(self, args, kwargs)\n",
    "        self.nr_nodes = nr_nodes\n",
    "        self.embedding_dim = embedding_dim\n",
    "        self.target_embedding = Embedding(nr_nodes,\n",
    "                                          embedding_dim,\n",
    "                                          embeddings_initializer=\"RandomNormal\",\n",
    "                                          input_length=1,\n",
    "                                          name=\"node_embedding\")\n",
    "        self.context_embedding = Embedding(nr_nodes,\n",
    "                                           embedding_dim,\n",
    "                                           embeddings_initializer=\"RandomNormal\",\n",
    "                                           input_length=1,\n",
    "                                           name=\"context_embedding\")\n",
    "        self.dots = Dot(axes=1)\n",
    "        self.flatten = Flatten()\n",
    "        self.dense = Dense(1, activation='sigmoid')\n",
    "\n",
    "    def call(self, pair):\n",
    "        target, context = pair[:,0], pair[:,1]\n",
    "        word_emb = self.target_embedding(target)\n",
    "        context_emb = self.context_embedding(context)\n",
    "        dots = self.dots([context_emb, word_emb])\n",
    "        flat = self.flatten(dots)\n",
    "        return self.dense(flat)\n",
    "    \n",
    "    def summary(self):\n",
    "        x = Input(shape=(2,))\n",
    "        model = Model(inputs=[x], outputs=self.call(x))\n",
    "        return model.summary()"
   ]
  },
  {
   "cell_type": "code",
   "execution_count": 13,
   "id": "5fe2885a",
   "metadata": {},
   "outputs": [],
   "source": [
    "# this is a small graph, so the embedding dimensionality can be also small \n",
    "embedding_dim = 20\n",
    "nr_nodes = G.number_of_nodes()\n",
    "n2v = Node2Vec(nr_nodes=nr_nodes, embedding_dim=embedding_dim)\n",
    "n2v.build(input_shape=(nr_nodes, embedding_dim))\n",
    "n2v.compile(optimizer='adam',\n",
    "                 loss= 'binary_crossentropy', \n",
    "                 metrics=['accuracy', 'AUC'])"
   ]
  },
  {
   "cell_type": "code",
   "execution_count": 14,
   "id": "c4acdd80",
   "metadata": {},
   "outputs": [
    {
     "name": "stdout",
     "output_type": "stream",
     "text": [
      "Model: \"model\"\n",
      "__________________________________________________________________________________________________\n",
      "Layer (type)                    Output Shape         Param #     Connected to                     \n",
      "==================================================================================================\n",
      "input_1 (InputLayer)            [(None, 2)]          0                                            \n",
      "__________________________________________________________________________________________________\n",
      "tf.__operators__.getitem_1 (Sli (None,)              0           input_1[0][0]                    \n",
      "__________________________________________________________________________________________________\n",
      "tf.__operators__.getitem (Slici (None,)              0           input_1[0][0]                    \n",
      "__________________________________________________________________________________________________\n",
      "context_embedding (Embedding)   (None, 20)           54160       tf.__operators__.getitem_1[0][0] \n",
      "__________________________________________________________________________________________________\n",
      "node_embedding (Embedding)      (None, 20)           54160       tf.__operators__.getitem[0][0]   \n",
      "__________________________________________________________________________________________________\n",
      "dot (Dot)                       (None, 1)            0           context_embedding[0][0]          \n",
      "                                                                 node_embedding[0][0]             \n",
      "__________________________________________________________________________________________________\n",
      "flatten (Flatten)               (None, 1)            0           dot[0][0]                        \n",
      "__________________________________________________________________________________________________\n",
      "dense (Dense)                   (None, 1)            2           flatten[0][0]                    \n",
      "==================================================================================================\n",
      "Total params: 108,322\n",
      "Trainable params: 108,322\n",
      "Non-trainable params: 0\n",
      "__________________________________________________________________________________________________\n"
     ]
    }
   ],
   "source": [
    "n2v.summary()"
   ]
  },
  {
   "cell_type": "code",
   "execution_count": 15,
   "id": "a46af2f5",
   "metadata": {},
   "outputs": [
    {
     "name": "stdout",
     "output_type": "stream",
     "text": [
      "Epoch 1/10\n",
      "10000/10000 [==============================] - 27s 3ms/step - loss: 0.6070 - accuracy: 0.6874 - auc: 0.6659\n",
      "Epoch 2/10\n",
      "10000/10000 [==============================] - 26s 3ms/step - loss: 0.4273 - accuracy: 0.8187 - auc: 0.8590\n",
      "Epoch 3/10\n",
      "10000/10000 [==============================] - 27s 3ms/step - loss: 0.3025 - accuracy: 0.8831 - auc: 0.9279\n",
      "Epoch 4/10\n",
      "10000/10000 [==============================] - 27s 3ms/step - loss: 0.2427 - accuracy: 0.9102 - auc: 0.9536\n",
      "Epoch 5/10\n",
      "10000/10000 [==============================] - 26s 3ms/step - loss: 0.2196 - accuracy: 0.9215 - auc: 0.9619\n",
      "Epoch 6/10\n",
      "10000/10000 [==============================] - 26s 3ms/step - loss: 0.2018 - accuracy: 0.9279 - auc: 0.9682\n",
      "Epoch 7/10\n",
      "10000/10000 [==============================] - 26s 3ms/step - loss: 0.1924 - accuracy: 0.9317 - auc: 0.9711\n",
      "Epoch 8/10\n",
      "10000/10000 [==============================] - 26s 3ms/step - loss: 0.1839 - accuracy: 0.9351 - auc: 0.9735\n",
      "Epoch 9/10\n",
      "10000/10000 [==============================] - 27s 3ms/step - loss: 0.1768 - accuracy: 0.9380 - auc: 0.9756\n",
      "Epoch 10/10\n",
      "10000/10000 [==============================] - 26s 3ms/step - loss: 0.1749 - accuracy: 0.9389 - auc: 0.9760\n"
     ]
    },
    {
     "data": {
      "text/plain": [
       "<tensorflow.python.keras.callbacks.History at 0x7f7d9c07eee0>"
      ]
     },
     "execution_count": 15,
     "metadata": {},
     "output_type": "execute_result"
    }
   ],
   "source": [
    "n2v.fit(gen, epochs=10)"
   ]
  },
  {
   "cell_type": "markdown",
   "id": "ad2ddc09",
   "metadata": {},
   "source": [
    "## Extract embeddings and create new node features"
   ]
  },
  {
   "cell_type": "code",
   "execution_count": 16,
   "id": "d9e8fdd8",
   "metadata": {},
   "outputs": [],
   "source": [
    "embeddings = n2v.get_layer('node_embedding').get_weights()[0]"
   ]
  },
  {
   "cell_type": "code",
   "execution_count": 17,
   "id": "98963f8b",
   "metadata": {},
   "outputs": [],
   "source": [
    "node_embeddings = {int_to_node[idx]: emb for idx, emb in enumerate(embeddings)}"
   ]
  },
  {
   "cell_type": "code",
   "execution_count": 18,
   "id": "f61839ab",
   "metadata": {},
   "outputs": [],
   "source": [
    "# read the node labels\n",
    "path = \"/home/koki/Desktop/Data/Graphs/cora/cora.content\"\n",
    "nodedata_df = pd.read_csv(path, sep=\"\\t\")"
   ]
  },
  {
   "cell_type": "code",
   "execution_count": 19,
   "id": "66dfaf1c",
   "metadata": {},
   "outputs": [],
   "source": [
    "# the data contains additional features that we won't use in this example\n",
    "# extract only the node id and the corresponding label\n",
    "df = nodedata_df.iloc[:,[0,-1]]\n",
    "df.columns= [\"node\", \"label\"]"
   ]
  },
  {
   "cell_type": "code",
   "execution_count": 20,
   "id": "c3cbe45e",
   "metadata": {},
   "outputs": [
    {
     "data": {
      "text/html": [
       "<div>\n",
       "<style scoped>\n",
       "    .dataframe tbody tr th:only-of-type {\n",
       "        vertical-align: middle;\n",
       "    }\n",
       "\n",
       "    .dataframe tbody tr th {\n",
       "        vertical-align: top;\n",
       "    }\n",
       "\n",
       "    .dataframe thead th {\n",
       "        text-align: right;\n",
       "    }\n",
       "</style>\n",
       "<table border=\"1\" class=\"dataframe\">\n",
       "  <thead>\n",
       "    <tr style=\"text-align: right;\">\n",
       "      <th></th>\n",
       "      <th>node</th>\n",
       "      <th>label</th>\n",
       "    </tr>\n",
       "  </thead>\n",
       "  <tbody>\n",
       "    <tr>\n",
       "      <th>0</th>\n",
       "      <td>1061127</td>\n",
       "      <td>Rule_Learning</td>\n",
       "    </tr>\n",
       "    <tr>\n",
       "      <th>1</th>\n",
       "      <td>1106406</td>\n",
       "      <td>Reinforcement_Learning</td>\n",
       "    </tr>\n",
       "    <tr>\n",
       "      <th>2</th>\n",
       "      <td>13195</td>\n",
       "      <td>Reinforcement_Learning</td>\n",
       "    </tr>\n",
       "    <tr>\n",
       "      <th>3</th>\n",
       "      <td>37879</td>\n",
       "      <td>Probabilistic_Methods</td>\n",
       "    </tr>\n",
       "    <tr>\n",
       "      <th>4</th>\n",
       "      <td>1126012</td>\n",
       "      <td>Probabilistic_Methods</td>\n",
       "    </tr>\n",
       "  </tbody>\n",
       "</table>\n",
       "</div>"
      ],
      "text/plain": [
       "      node                   label\n",
       "0  1061127           Rule_Learning\n",
       "1  1106406  Reinforcement_Learning\n",
       "2    13195  Reinforcement_Learning\n",
       "3    37879   Probabilistic_Methods\n",
       "4  1126012   Probabilistic_Methods"
      ]
     },
     "execution_count": 20,
     "metadata": {},
     "output_type": "execute_result"
    }
   ],
   "source": [
    "df.head()"
   ]
  },
  {
   "cell_type": "code",
   "execution_count": 22,
   "id": "f079943c",
   "metadata": {},
   "outputs": [
    {
     "data": {
      "text/plain": [
       "<AxesSubplot:>"
      ]
     },
     "execution_count": 22,
     "metadata": {},
     "output_type": "execute_result"
    },
    {
     "data": {
      "image/png": "[encoded data removed]",
      "text/plain": [
       "<Figure size 432x288 with 1 Axes>"
      ]
     },
     "metadata": {
      "needs_background": "light"
     },
     "output_type": "display_data"
    }
   ],
   "source": [
    "# the label distribution is as floows\n",
    "df[\"label\"].value_counts().plot(kind=\"barh\")"
   ]
  },
  {
   "cell_type": "code",
   "execution_count": 23,
   "id": "9d3764d4",
   "metadata": {},
   "outputs": [],
   "source": [
    "# Create a new dataset using the embeddings as features\n",
    "entries = []\n",
    "for index, row in df.iterrows():\n",
    "    node = row[\"node\"]\n",
    "    \n",
    "    emb = node_embeddings[node]\n",
    "    emb_dict = {\"e\"+str(i): emb[i] for i in range(len(emb))}\n",
    "    row_dict = {**emb_dict, \"label\": row[\"label\"]}\n",
    "    entries.append(row_dict)\n",
    "data = pd.DataFrame(entries)"
   ]
  },
  {
   "cell_type": "code",
   "execution_count": 24,
   "id": "9b901b36",
   "metadata": {},
   "outputs": [
    {
     "data": {
      "text/html": [
       "<div>\n",
       "<style scoped>\n",
       "    .dataframe tbody tr th:only-of-type {\n",
       "        vertical-align: middle;\n",
       "    }\n",
       "\n",
       "    .dataframe tbody tr th {\n",
       "        vertical-align: top;\n",
       "    }\n",
       "\n",
       "    .dataframe thead th {\n",
       "        text-align: right;\n",
       "    }\n",
       "</style>\n",
       "<table border=\"1\" class=\"dataframe\">\n",
       "  <thead>\n",
       "    <tr style=\"text-align: right;\">\n",
       "      <th></th>\n",
       "      <th>e0</th>\n",
       "      <th>e1</th>\n",
       "      <th>e2</th>\n",
       "      <th>e3</th>\n",
       "      <th>e4</th>\n",
       "      <th>e5</th>\n",
       "      <th>e6</th>\n",
       "      <th>e7</th>\n",
       "      <th>e8</th>\n",
       "      <th>e9</th>\n",
       "      <th>...</th>\n",
       "      <th>e11</th>\n",
       "      <th>e12</th>\n",
       "      <th>e13</th>\n",
       "      <th>e14</th>\n",
       "      <th>e15</th>\n",
       "      <th>e16</th>\n",
       "      <th>e17</th>\n",
       "      <th>e18</th>\n",
       "      <th>e19</th>\n",
       "      <th>label</th>\n",
       "    </tr>\n",
       "  </thead>\n",
       "  <tbody>\n",
       "    <tr>\n",
       "      <th>0</th>\n",
       "      <td>0.191479</td>\n",
       "      <td>0.311023</td>\n",
       "      <td>-0.247829</td>\n",
       "      <td>-0.469754</td>\n",
       "      <td>0.254492</td>\n",
       "      <td>0.234832</td>\n",
       "      <td>-0.038491</td>\n",
       "      <td>0.293307</td>\n",
       "      <td>-0.101198</td>\n",
       "      <td>-0.004308</td>\n",
       "      <td>...</td>\n",
       "      <td>0.090118</td>\n",
       "      <td>-0.336330</td>\n",
       "      <td>0.045996</td>\n",
       "      <td>-0.102616</td>\n",
       "      <td>0.048551</td>\n",
       "      <td>-0.116436</td>\n",
       "      <td>-0.173936</td>\n",
       "      <td>-0.013816</td>\n",
       "      <td>-0.020808</td>\n",
       "      <td>Rule_Learning</td>\n",
       "    </tr>\n",
       "    <tr>\n",
       "      <th>1</th>\n",
       "      <td>-0.217945</td>\n",
       "      <td>-0.058323</td>\n",
       "      <td>0.236630</td>\n",
       "      <td>0.023943</td>\n",
       "      <td>-0.189106</td>\n",
       "      <td>0.121669</td>\n",
       "      <td>0.278136</td>\n",
       "      <td>0.194355</td>\n",
       "      <td>0.499558</td>\n",
       "      <td>0.076719</td>\n",
       "      <td>...</td>\n",
       "      <td>0.162315</td>\n",
       "      <td>-0.020441</td>\n",
       "      <td>-0.002672</td>\n",
       "      <td>-0.098749</td>\n",
       "      <td>-0.049068</td>\n",
       "      <td>0.005267</td>\n",
       "      <td>-0.275098</td>\n",
       "      <td>-0.074772</td>\n",
       "      <td>-0.081806</td>\n",
       "      <td>Reinforcement_Learning</td>\n",
       "    </tr>\n",
       "    <tr>\n",
       "      <th>2</th>\n",
       "      <td>-0.207100</td>\n",
       "      <td>-0.072932</td>\n",
       "      <td>0.317803</td>\n",
       "      <td>0.082638</td>\n",
       "      <td>-0.271592</td>\n",
       "      <td>-0.045123</td>\n",
       "      <td>0.234376</td>\n",
       "      <td>0.157227</td>\n",
       "      <td>0.065088</td>\n",
       "      <td>0.011483</td>\n",
       "      <td>...</td>\n",
       "      <td>0.411574</td>\n",
       "      <td>-0.064499</td>\n",
       "      <td>0.269806</td>\n",
       "      <td>-0.196299</td>\n",
       "      <td>0.164632</td>\n",
       "      <td>-0.314928</td>\n",
       "      <td>-0.270757</td>\n",
       "      <td>-0.054850</td>\n",
       "      <td>-0.250121</td>\n",
       "      <td>Reinforcement_Learning</td>\n",
       "    </tr>\n",
       "    <tr>\n",
       "      <th>3</th>\n",
       "      <td>-0.001371</td>\n",
       "      <td>-0.025245</td>\n",
       "      <td>-0.065772</td>\n",
       "      <td>-0.031608</td>\n",
       "      <td>-0.129881</td>\n",
       "      <td>0.046065</td>\n",
       "      <td>0.064605</td>\n",
       "      <td>-0.085902</td>\n",
       "      <td>-0.003983</td>\n",
       "      <td>-0.223578</td>\n",
       "      <td>...</td>\n",
       "      <td>-0.008052</td>\n",
       "      <td>-0.331785</td>\n",
       "      <td>0.089208</td>\n",
       "      <td>-0.308538</td>\n",
       "      <td>-0.228122</td>\n",
       "      <td>0.262721</td>\n",
       "      <td>0.251121</td>\n",
       "      <td>0.290651</td>\n",
       "      <td>0.033639</td>\n",
       "      <td>Probabilistic_Methods</td>\n",
       "    </tr>\n",
       "    <tr>\n",
       "      <th>4</th>\n",
       "      <td>-0.057955</td>\n",
       "      <td>0.053605</td>\n",
       "      <td>0.305894</td>\n",
       "      <td>-0.173810</td>\n",
       "      <td>0.172788</td>\n",
       "      <td>-0.199305</td>\n",
       "      <td>-0.161851</td>\n",
       "      <td>-0.179418</td>\n",
       "      <td>0.068679</td>\n",
       "      <td>0.428615</td>\n",
       "      <td>...</td>\n",
       "      <td>0.022397</td>\n",
       "      <td>-0.151860</td>\n",
       "      <td>0.272162</td>\n",
       "      <td>0.021147</td>\n",
       "      <td>-0.307955</td>\n",
       "      <td>0.064091</td>\n",
       "      <td>-0.060214</td>\n",
       "      <td>-0.185168</td>\n",
       "      <td>0.294706</td>\n",
       "      <td>Probabilistic_Methods</td>\n",
       "    </tr>\n",
       "  </tbody>\n",
       "</table>\n",
       "<p>5 rows × 21 columns</p>\n",
       "</div>"
      ],
      "text/plain": [
       "         e0        e1        e2        e3        e4        e5        e6  \\\n",
       "0  0.191479  0.311023 -0.247829 -0.469754  0.254492  0.234832 -0.038491   \n",
       "1 -0.217945 -0.058323  0.236630  0.023943 -0.189106  0.121669  0.278136   \n",
       "2 -0.207100 -0.072932  0.317803  0.082638 -0.271592 -0.045123  0.234376   \n",
       "3 -0.001371 -0.025245 -0.065772 -0.031608 -0.129881  0.046065  0.064605   \n",
       "4 -0.057955  0.053605  0.305894 -0.173810  0.172788 -0.199305 -0.161851   \n",
       "\n",
       "         e7        e8        e9  ...       e11       e12       e13       e14  \\\n",
       "0  0.293307 -0.101198 -0.004308  ...  0.090118 -0.336330  0.045996 -0.102616   \n",
       "1  0.194355  0.499558  0.076719  ...  0.162315 -0.020441 -0.002672 -0.098749   \n",
       "2  0.157227  0.065088  0.011483  ...  0.411574 -0.064499  0.269806 -0.196299   \n",
       "3 -0.085902 -0.003983 -0.223578  ... -0.008052 -0.331785  0.089208 -0.308538   \n",
       "4 -0.179418  0.068679  0.428615  ...  0.022397 -0.151860  0.272162  0.021147   \n",
       "\n",
       "        e15       e16       e17       e18       e19                   label  \n",
       "0  0.048551 -0.116436 -0.173936 -0.013816 -0.020808           Rule_Learning  \n",
       "1 -0.049068  0.005267 -0.275098 -0.074772 -0.081806  Reinforcement_Learning  \n",
       "2  0.164632 -0.314928 -0.270757 -0.054850 -0.250121  Reinforcement_Learning  \n",
       "3 -0.228122  0.262721  0.251121  0.290651  0.033639   Probabilistic_Methods  \n",
       "4 -0.307955  0.064091 -0.060214 -0.185168  0.294706   Probabilistic_Methods  \n",
       "\n",
       "[5 rows x 21 columns]"
      ]
     },
     "execution_count": 24,
     "metadata": {},
     "output_type": "execute_result"
    }
   ],
   "source": [
    "data.head()"
   ]
  },
  {
   "cell_type": "code",
   "execution_count": 25,
   "id": "5e46be76",
   "metadata": {},
   "outputs": [],
   "source": [
    "X = data.drop(\"label\", axis=1)\n",
    "y = data[\"label\"]"
   ]
  },
  {
   "cell_type": "markdown",
   "id": "1358ef5b",
   "metadata": {},
   "source": [
    "## Train some simple models"
   ]
  },
  {
   "cell_type": "code",
   "execution_count": 26,
   "id": "367407c6",
   "metadata": {},
   "outputs": [],
   "source": [
    "X_train, X_test, y_train, y_test = train_test_split(X,y,test_size=0.2)"
   ]
  },
  {
   "cell_type": "code",
   "execution_count": 27,
   "id": "9f8172a6",
   "metadata": {},
   "outputs": [],
   "source": [
    "def train_and_evaluate(model, X_train, X_test, y_train, y_test):\n",
    "    clf = model.fit(X_train, y_train)\n",
    "    y_pred = clf.predict(X_test)\n",
    "    print(\"Accuracy: \", acc(y_pred, y_test))"
   ]
  },
  {
   "cell_type": "code",
   "execution_count": 47,
   "id": "46970cae",
   "metadata": {},
   "outputs": [],
   "source": [
    "model_logreg = LogisticRegression(C=1)\n",
    "model_rf = RandomForestClassifier(max_depth=20, random_state=0)"
   ]
  },
  {
   "cell_type": "code",
   "execution_count": 48,
   "id": "1dc45b26",
   "metadata": {},
   "outputs": [
    {
     "name": "stdout",
     "output_type": "stream",
     "text": [
      "Accuracy:  0.7324723247232472\n"
     ]
    }
   ],
   "source": [
    "train_and_evaluate(model_logreg, X_train, X_test, y_train, y_test)"
   ]
  },
  {
   "cell_type": "code",
   "execution_count": 49,
   "id": "bac5a1c9",
   "metadata": {},
   "outputs": [
    {
     "name": "stdout",
     "output_type": "stream",
     "text": [
      "Accuracy:  0.8044280442804428\n"
     ]
    }
   ],
   "source": [
    "train_and_evaluate(model_rf, X_train, X_test, y_train, y_test)"
   ]
  },
  {
   "cell_type": "code",
   "execution_count": null,
   "id": "8f2888d3",
   "metadata": {},
   "outputs": [],
   "source": []
  },
  {
   "cell_type": "code",
   "execution_count": null,
   "id": "8445b8db",
   "metadata": {},
   "outputs": [],
   "source": []
  }
 ],
 "metadata": {
  "kernelspec": {
   "display_name": "Python 3",
   "language": "python",
   "name": "python3"
  },
  "language_info": {
   "codemirror_mode": {
    "name": "ipython",
    "version": 3
   },
   "file_extension": ".py",
   "mimetype": "text/x-python",
   "name": "python",
   "nbconvert_exporter": "python",
   "pygments_lexer": "ipython3",
   "version": "3.8.10"
  }
 },
 "nbformat": 4,
 "nbformat_minor": 5
}
