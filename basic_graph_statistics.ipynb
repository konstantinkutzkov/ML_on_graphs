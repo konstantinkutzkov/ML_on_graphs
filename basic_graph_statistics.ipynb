{
 "cells": [
  {
   "cell_type": "code",
   "execution_count": 1,
   "id": "504a4069",
   "metadata": {},
   "outputs": [],
   "source": [
    "import numpy as np\n",
    "import networkx as nx\n",
    "from scipy.sparse import csr_matrix\n",
    "import matplotlib.pyplot as plt\n",
    "import time"
   ]
  },
  {
   "cell_type": "code",
   "execution_count": 2,
   "id": "881cd480",
   "metadata": {},
   "outputs": [],
   "source": [
    "# download and unzip graph from https://snap.stanford.edu/data/com-DBLP.html\n",
    "path = \"/home/koki/Desktop/Data/Graphs/com-dblp.ungraph.txt\"\n",
    "f = open(path, \"r\")\n",
    "G = nx.Graph()\n",
    "for line in f:\n",
    "    if line[0] == \"#\":\n",
    "        continue\n",
    "    line = line.strip()\n",
    "    line_split = line.split(\"\\t\")\n",
    "    try:\n",
    "        u = int(line_split[0])\n",
    "        v = int(line_split[1])\n",
    "        G.add_edge(u, v)\n",
    "    except:\n",
    "        raise ValueError(\"Line cannot be processed: \", line)"
   ]
  },
  {
   "cell_type": "code",
   "execution_count": 3,
   "id": "c5f435e1",
   "metadata": {},
   "outputs": [
    {
     "name": "stdout",
     "output_type": "stream",
     "text": [
      "Number of nodes: 317080 \n",
      "Number of edges: 1049866 \n",
      "Graph density: 2.08846661642591e-05\n"
     ]
    }
   ],
   "source": [
    "print(\"Number of nodes: {} \\nNumber of edges: {} \\nGraph density: {}\".format(G.number_of_nodes(), \\\n",
    "                                                                    G.number_of_edges(), nx.density(G)))"
   ]
  },
  {
   "cell_type": "code",
   "execution_count": 4,
   "id": "4f9ed699",
   "metadata": {},
   "outputs": [],
   "source": [
    "nodelist = sorted(list(G.nodes()))"
   ]
  },
  {
   "cell_type": "code",
   "execution_count": 9,
   "id": "caa9b611",
   "metadata": {},
   "outputs": [],
   "source": [
    "# A = nx.to_scipy_sparse_matrix(G, nodelist=nodelist)"
   ]
  },
  {
   "cell_type": "code",
   "execution_count": 5,
   "id": "7d18fde4",
   "metadata": {},
   "outputs": [],
   "source": [
    "def sparsify_graph(G, p):\n",
    "    G_sparse = nx.Graph()\n",
    "    for u,v in G.edges():\n",
    "        if np.random.random() <= p:\n",
    "            G_sparse.add_edge(u,v)\n",
    "    return G_sparse\n",
    "        "
   ]
  },
  {
   "cell_type": "code",
   "execution_count": 6,
   "id": "f687abc8",
   "metadata": {},
   "outputs": [],
   "source": [
    "def doulion(G, p):\n",
    "    \"\"\"\n",
    "    Count the number of triangles.\n",
    "    :param: G: networkx graph\n",
    "    :param: p: sampling rate for edges. For exact count use p = 1\n",
    "    \"\"\"\n",
    "    assert 0 < p <= 1\n",
    "    A = nx.to_scipy_sparse_matrix(G)\n",
    "    A2 = A.dot(A)\n",
    "    A3 = A2.dot(A)\n",
    "    nr_triangles = (1/p**3)*(A3.diagonal().sum()/6)\n",
    "    return nr_triangles"
   ]
  },
  {
   "cell_type": "code",
   "execution_count": 7,
   "id": "ba944e98",
   "metadata": {},
   "outputs": [],
   "source": [
    "p = 0.1\n",
    "GS = sparsify_graph(G, p=p)"
   ]
  },
  {
   "cell_type": "code",
   "execution_count": 9,
   "id": "5e5a2233",
   "metadata": {},
   "outputs": [
    {
     "name": "stdout",
     "output_type": "stream",
     "text": [
      "Elapsed time exact: 13.79 secs\n"
     ]
    }
   ],
   "source": [
    "start = time.time()\n",
    "exact = doulion(G, p=1)\n",
    "print(\"Elapsed time exact: {:.2f} secs\".format(time.time()-start))"
   ]
  },
  {
   "cell_type": "code",
   "execution_count": 70,
   "id": "82fbdfe7",
   "metadata": {},
   "outputs": [
    {
     "name": "stdout",
     "output_type": "stream",
     "text": [
      "Elapsed time Doulion: 1.19 secs\n"
     ]
    }
   ],
   "source": [
    "start = time.time()\n",
    "est = doulion(GS, p=p)\n",
    "print(\"Elapsed time Doulion: {:.2f} secs\".format(time.time()-start))"
   ]
  },
  {
   "cell_type": "code",
   "execution_count": 72,
   "id": "8692df01",
   "metadata": {},
   "outputs": [
    {
     "name": "stdout",
     "output_type": "stream",
     "text": [
      "Approximation exact/estimated: 1.030\n"
     ]
    }
   ],
   "source": [
    "print(\"Approximation exact/estimated: {:.3f}\".format(exact/est))"
   ]
  },
  {
   "cell_type": "code",
   "execution_count": 30,
   "id": "ca7e29ed",
   "metadata": {},
   "outputs": [],
   "source": [
    "def nr_wedges(G):\n",
    "    s = 0\n",
    "    for u, d in nx.degree(G):\n",
    "        s += (d*(d-1))//2\n",
    "    return s"
   ]
  },
  {
   "cell_type": "code",
   "execution_count": 31,
   "id": "76a3479b",
   "metadata": {},
   "outputs": [
    {
     "data": {
      "text/plain": [
       "0.12833889497296896"
      ]
     },
     "execution_count": 31,
     "metadata": {},
     "output_type": "execute_result"
    }
   ],
   "source": [
    "exact/(nr_wedges(G) - 2*exact)"
   ]
  },
  {
   "cell_type": "code",
   "execution_count": null,
   "id": "7806c39c",
   "metadata": {},
   "outputs": [],
   "source": []
  },
  {
   "cell_type": "markdown",
   "id": "e18166dc",
   "metadata": {},
   "source": [
    "## Plotting"
   ]
  },
  {
   "cell_type": "code",
   "execution_count": 13,
   "id": "ed73240b",
   "metadata": {},
   "outputs": [],
   "source": [
    "def plot_degrees(G, title):\n",
    "    degree_freq = nx.degree_histogram(G)\n",
    "    degrees = range(len(degree_freq))\n",
    "    plt.figure(figsize=(5, 3)) \n",
    "    plt.loglog(degrees, degree_freq,'ro-', alpha=0.6, linewidth=0) \n",
    "    plt.xlabel('Degree', fontsize=14)\n",
    "    plt.ylabel('Frequency', fontsize=14)\n",
    "    plt.title(title, fontsize=15)\n",
    "    plt.show()"
   ]
  },
  {
   "cell_type": "code",
   "execution_count": 14,
   "id": "8e8a2cb2",
   "metadata": {},
   "outputs": [],
   "source": [
    "# download and unzip graph from https://snap.stanford.edu/data/email-EuAll.html\n",
    "path = \"/home/koki/Desktop/Data/Graphs/Email-EuAll.txt\"\n",
    "f = open(path, \"r\")\n",
    "H = nx.Graph()\n",
    "for line in f:\n",
    "    if line[0] == \"#\":\n",
    "        continue\n",
    "    line = line.strip()\n",
    "    line_split = line.split(\"\\t\")\n",
    "    try:\n",
    "        u = int(line_split[0])\n",
    "        v = int(line_split[1])\n",
    "        H.add_edge(u, v)\n",
    "    except:\n",
    "        raise ValueError(\"Line cannot be processed: \", line)"
   ]
  },
  {
   "cell_type": "code",
   "execution_count": 15,
   "id": "8de07e58",
   "metadata": {},
   "outputs": [
    {
     "data": {
      "image/png": "[encoded data removed]",
      "text/plain": [
       "<Figure size 360x216 with 1 Axes>"
      ]
     },
     "metadata": {
      "needs_background": "light"
     },
     "output_type": "display_data"
    }
   ],
   "source": [
    "plot_degrees(G, title=\"DBLP graph\")"
   ]
  },
  {
   "cell_type": "code",
   "execution_count": 16,
   "id": "7591338c",
   "metadata": {},
   "outputs": [
    {
     "data": {
      "image/png": "[encoded data removed]",
      "text/plain": [
       "<Figure size 360x216 with 1 Axes>"
      ]
     },
     "metadata": {
      "needs_background": "light"
     },
     "output_type": "display_data"
    }
   ],
   "source": [
    "plot_degrees(H, title=\"Email EU graph\")"
   ]
  },
  {
   "cell_type": "code",
   "execution_count": null,
   "id": "8e5fdd4e",
   "metadata": {},
   "outputs": [],
   "source": []
  }
 ],
 "metadata": {
  "kernelspec": {
   "display_name": "Python 3",
   "language": "python",
   "name": "python3"
  },
  "language_info": {
   "codemirror_mode": {
    "name": "ipython",
    "version": 3
   },
   "file_extension": ".py",
   "mimetype": "text/x-python",
   "name": "python",
   "nbconvert_exporter": "python",
   "pygments_lexer": "ipython3",
   "version": "3.8.10"
  }
 },
 "nbformat": 4,
 "nbformat_minor": 5
}
